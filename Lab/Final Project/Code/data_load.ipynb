{
 "cells": [
  {
   "cell_type": "code",
   "execution_count": 1,
   "metadata": {},
   "outputs": [
    {
     "name": "stderr",
     "output_type": "stream",
     "text": [
      "/home/giorgio/virtualenvs/shazura/lib/python3.5/site-packages/h5py/__init__.py:36: FutureWarning: Conversion of the second argument of issubdtype from `float` to `np.floating` is deprecated. In future, it will be treated as `np.float64 == np.dtype(float).type`.\n",
      "  from ._conv import register_converters as _register_converters\n"
     ]
    }
   ],
   "source": [
    "from __future__ import division, print_function, unicode_literals\n",
    "import numpy as np\n",
    "import tensorflow as tf\n",
    "\n",
    "# to make this notebook's output stable across runs\n",
    "def reset_graph(seed=42):\n",
    "    tf.reset_default_graph()\n",
    "    tf.set_random_seed(seed)\n",
    "    np.random.seed(seed)"
   ]
  },
  {
   "cell_type": "code",
   "execution_count": 2,
   "metadata": {},
   "outputs": [],
   "source": [
    "import glob\n",
    "import sys\n",
    "import os"
   ]
  },
  {
   "cell_type": "code",
   "execution_count": 3,
   "metadata": {},
   "outputs": [
    {
     "data": {
      "text/plain": [
       "['./data/validationset/cricket_09879.png',\n",
       " './data/validationset/cricket_09553.png',\n",
       " './data/validationset/bee_09121.png',\n",
       " './data/validationset/cricket_09810.png',\n",
       " './data/validationset/cricket_09656.png',\n",
       " './data/validationset/noise_09954.png',\n",
       " './data/validationset/cricket_09671.png',\n",
       " './data/validationset/bee_09354.png',\n",
       " './data/validationset/bee_09277.png',\n",
       " './data/validationset/cricket_09903.png']"
      ]
     },
     "execution_count": 3,
     "metadata": {},
     "output_type": "execute_result"
    }
   ],
   "source": [
    "filenamepaths = glob.glob(\"./data/validationset/*.png\")\n",
    "filenamepaths[:10]"
   ]
  },
  {
   "cell_type": "code",
   "execution_count": 4,
   "metadata": {},
   "outputs": [],
   "source": [
    "name_to_numeric = {\"bee\" : 0, \"cricket\" : 1, \"noise\" : 2}\n",
    "\n",
    "def get_class_from_path(path):\n",
    "    class_name = (os.path.split(path)[-1]).split('_')[0]\n",
    "    numerical_class = name_to_numeric[class_name]\n",
    "    return numerical_class"
   ]
  },
  {
   "cell_type": "code",
   "execution_count": 5,
   "metadata": {},
   "outputs": [],
   "source": [
    "labels = list(map(get_class_from_path, filenamepaths))"
   ]
  },
  {
   "cell_type": "code",
   "execution_count": 6,
   "metadata": {},
   "outputs": [
    {
     "name": "stdout",
     "output_type": "stream",
     "text": [
      "1 ./data/validationset/cricket_09879.png\n",
      "1 ./data/validationset/cricket_09553.png\n",
      "0 ./data/validationset/bee_09121.png\n",
      "1 ./data/validationset/cricket_09810.png\n",
      "1 ./data/validationset/cricket_09656.png\n",
      "2 ./data/validationset/noise_09954.png\n",
      "1 ./data/validationset/cricket_09671.png\n",
      "0 ./data/validationset/bee_09354.png\n",
      "0 ./data/validationset/bee_09277.png\n",
      "1 ./data/validationset/cricket_09903.png\n"
     ]
    }
   ],
   "source": [
    "\n",
    "for pathname, classname in zip (filenamepaths[:10], labels[:10]):\n",
    "    print(\"{} {}\".format(classname, pathname))\n",
    "    "
   ]
  },
  {
   "cell_type": "code",
   "execution_count": 7,
   "metadata": {},
   "outputs": [],
   "source": [
    "def parse_image_function(filename, label):\n",
    "    image_string = tf.read_file(filename)\n",
    "\n",
    "    # Don't use tf.image.decode_image, or the output shape will be undefined\n",
    "    image = tf.image.decode_png(image_string, channels=1)\n",
    "\n",
    "    # This will convert to float values in [0, 1]\n",
    "    image = tf.image.convert_image_dtype(image, tf.float32)\n",
    "    # Resize is not actually needed but it is good to have the image dimensions in the\n",
    "    # Tensor shape\n",
    "    image = tf.image.resize_images(image, [100, 100])\n",
    "    return image, label"
   ]
  },
  {
   "cell_type": "code",
   "execution_count": 8,
   "metadata": {},
   "outputs": [],
   "source": [
    "BATCH_SIZE=100"
   ]
  },
  {
   "cell_type": "code",
   "execution_count": 9,
   "metadata": {},
   "outputs": [],
   "source": [
    "reset_graph()"
   ]
  },
  {
   "cell_type": "markdown",
   "metadata": {},
   "source": [
    "The dataset is formed by tuples where the first element is the encoded image and the second is the class"
   ]
  },
  {
   "cell_type": "code",
   "execution_count": 10,
   "metadata": {},
   "outputs": [
    {
     "data": {
      "text/plain": [
       "{'images': <tf.Tensor 'IteratorGetNext:0' shape=(?, 100, 100, 1) dtype=float32>,\n",
       " 'iterator_init_op': <tf.Operation 'MakeIterator' type=MakeIterator>,\n",
       " 'labels': <tf.Tensor 'IteratorGetNext:1' shape=(?,) dtype=int32>}"
      ]
     },
     "execution_count": 10,
     "metadata": {},
     "output_type": "execute_result"
    }
   ],
   "source": [
    "def get_train_inputs(filenames, labels, batch_size, parallel_tasks=4):\n",
    "    num_samples = len(filenames)\n",
    "    assert len(filenames) == len(labels), \"Filenames and labels should have same length\"\n",
    "    dataset = tf.data.Dataset.from_tensor_slices((tf.constant(filenames), tf.constant(labels)))\n",
    "    dataset = dataset.map(parse_image_function, num_parallel_calls=4)\n",
    "#     dataset = dataset.shuffle()\n",
    "    dataset = dataset.batch(batch_size)\n",
    "    dataset = dataset.prefetch(1)\n",
    "    \n",
    "    iterator = dataset.make_initializable_iterator()\n",
    "    images, labels = iterator.get_next()\n",
    "    iterator_init_op = iterator.initializer\n",
    "    \n",
    "    inputs = {'images': images, 'labels': labels, 'iterator_init_op': iterator_init_op}\n",
    "    return inputs\n",
    "    \n",
    "train_inputs = get_train_inputs(filenamepaths, labels, BATCH_SIZE)\n",
    "train_inputs"
   ]
  },
  {
   "cell_type": "markdown",
   "metadata": {},
   "source": [
    "Run a simple iteration to see if the labels are actually changing"
   ]
  },
  {
   "cell_type": "code",
   "execution_count": 11,
   "metadata": {},
   "outputs": [
    {
     "name": "stdout",
     "output_type": "stream",
     "text": [
      "[1 1 0 1 1 2 1 0 0 1 0 1 0 1 0 0 2 0 2 2 1 2 2 1 1 2 0 2 0 1 1 1 0 2 1 2 2\n",
      " 2 0 1 2 2 2 1 1 0 0 0 0 1 1 1 0 0 2 2 2 1 1 1 2 2 2 0 1 0 0 1 1 1 2 0 1 1\n",
      " 1 2 1 1 2 2 0 2 1 0 2 0 0 0 1 1 0 0 1 0 0 2 1 2 1 1]\n",
      "[0 2 1 0 2 2 2 1 1 0 1 2 1 0 2 1 2 0 2 1 1 1 0 0 0 0 1 0 1 1 0 1 0 1 1 1 2\n",
      " 1 1 1 0 2 0 1 1 0 1 1 1 1 2 1 2 1 0 0 0 0 2 1 1 1 2 2 2 2 0 1 0 0 0 1 0 1\n",
      " 0 1 2 2 2 0 1 2 2 1 0 1 0 2 0 2 2 1 1 2 1 2 1 2 1 0]\n",
      "[2 1 1 2 0 2 0 0 1 1 1 0 0 1 0 2 1 2 1 2 1 1 1 1 1 2 1 2 0 1 1 0 2 2 0 0 1\n",
      " 1 0 0 0 2 2 1 2 1 2 2 2 0 1 1 1 1 0 1 1 2 0 1 1 2 1 0 1 1 1 2 0 1 2 1 1 0\n",
      " 1 1 2 1 0 2 1 1 0 1 1 2 2 2 1 1 1 2 0 0 1 2 1 2 0 2]\n"
     ]
    }
   ],
   "source": [
    "init = tf.global_variables_initializer()\n",
    "\n",
    "with tf.Session() as sess:\n",
    "    init.run()\n",
    "    sess.run(train_inputs['iterator_init_op'])\n",
    "    print(sess.run(train_inputs['labels']))\n",
    "    print(sess.run(train_inputs['labels']))\n",
    "    print(sess.run(train_inputs['labels']))"
   ]
  },
  {
   "cell_type": "code",
   "execution_count": 12,
   "metadata": {},
   "outputs": [
    {
     "data": {
      "text/plain": [
       "TensorShape([Dimension(None), Dimension(3)])"
      ]
     },
     "execution_count": 12,
     "metadata": {},
     "output_type": "execute_result"
    }
   ],
   "source": [
    "# a simple model, just a perceptron\n",
    "images = train_inputs[\"images\"]\n",
    "\n",
    "flatten_images = tf.reshape(images, [-1, 100*100])\n",
    "\n",
    "dense1 = tf.layers.dense(\n",
    "    flatten_images,\n",
    "    100,\n",
    "    activation=tf.nn.relu,\n",
    "    kernel_initializer=tf.initializers.random_uniform(-0.2, 0.2),\n",
    "    bias_initializer=tf.initializers.random_uniform(0.09, 0.11)\n",
    ")\n",
    "\n",
    "dense2 = tf.layers.dense(\n",
    "    dense1,\n",
    "    3,\n",
    "    activation=tf.nn.relu,\n",
    "    kernel_initializer=tf.initializers.random_uniform(-0.2, 0.2),\n",
    "    bias_initializer=tf.initializers.random_uniform(0.09, 0.11)\n",
    ")\n",
    "\n",
    "\n",
    "logits=dense2\n",
    "logits.shape\n"
   ]
  },
  {
   "cell_type": "code",
   "execution_count": 13,
   "metadata": {},
   "outputs": [],
   "source": [
    "labels = train_inputs['labels']\n",
    "labels = tf.cast(labels, tf.int64)\n",
    "predictions = tf.argmax(logits,1)\n",
    "\n",
    "loss = tf.losses.sparse_softmax_cross_entropy(labels=labels, logits=logits)\n",
    "optimizer = tf.train.GradientDescentOptimizer(0.005)\n",
    "train_op = optimizer.minimize(loss)"
   ]
  },
  {
   "cell_type": "code",
   "execution_count": 14,
   "metadata": {},
   "outputs": [
    {
     "name": "stdout",
     "output_type": "stream",
     "text": [
      "Epoch 0\n",
      "None\n",
      "1.893394\n",
      "None\n",
      "1.0986122\n",
      "None\n",
      "1.0986122\n",
      "None\n",
      "1.0986122\n",
      "None\n",
      "1.0986122\n",
      "None\n",
      "1.0986122\n",
      "None\n",
      "1.0986122\n",
      "None\n",
      "1.0986122\n",
      "None\n",
      "1.0986122\n",
      "None\n",
      "1.0986122\n",
      "None\n",
      "1.0986122\n",
      "Epoch 1\n",
      "None\n",
      "1.0986122\n",
      "None\n",
      "1.0986122\n",
      "None\n",
      "1.0986122\n",
      "None\n",
      "1.0986122\n",
      "None\n",
      "1.0986122\n",
      "None\n",
      "1.0986122\n",
      "None\n",
      "1.0986122\n",
      "None\n",
      "1.0986122\n",
      "None\n",
      "1.0986122\n",
      "None\n",
      "1.0986122\n",
      "None\n",
      "1.0986122\n",
      "Epoch 2\n",
      "None\n",
      "1.0986122\n",
      "None\n",
      "1.0986122\n",
      "None\n",
      "1.0986122\n",
      "None\n",
      "1.0986122\n",
      "None\n",
      "1.0986122\n",
      "None\n",
      "1.0986122\n",
      "None\n",
      "1.0986122\n",
      "None\n",
      "1.0986122\n",
      "None\n",
      "1.0986122\n",
      "None\n",
      "1.0986122\n",
      "None\n",
      "1.0986122\n"
     ]
    }
   ],
   "source": [
    "init = tf.global_variables_initializer()\n",
    "\n",
    "with tf.Session() as sess:\n",
    "    init.run()\n",
    "    \n",
    "    # actual training\n",
    "    for epoch in range(3):\n",
    "        print(\"Epoch {}\".format(epoch))\n",
    "        # restart from beginning of the dataset\n",
    "        sess.run(train_inputs['iterator_init_op'])\n",
    "        for _ in range(len(filenamepaths)//BATCH_SIZE):\n",
    "            train_op_res, loss_val = sess.run([train_op, loss])\n",
    "            print(train_op_res)\n",
    "            print(loss_val)\n"
   ]
  },
  {
   "cell_type": "code",
   "execution_count": null,
   "metadata": {},
   "outputs": [],
   "source": []
  },
  {
   "cell_type": "code",
   "execution_count": null,
   "metadata": {},
   "outputs": [],
   "source": []
  }
 ],
 "metadata": {
  "kernelspec": {
   "display_name": "Python 3",
   "language": "python",
   "name": "python3"
  },
  "language_info": {
   "codemirror_mode": {
    "name": "ipython",
    "version": 3
   },
   "file_extension": ".py",
   "mimetype": "text/x-python",
   "name": "python",
   "nbconvert_exporter": "python",
   "pygments_lexer": "ipython3",
   "version": "3.5.2"
  }
 },
 "nbformat": 4,
 "nbformat_minor": 2
}
