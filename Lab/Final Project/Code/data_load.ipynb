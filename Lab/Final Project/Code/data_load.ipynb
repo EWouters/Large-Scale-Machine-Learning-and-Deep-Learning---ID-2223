{
 "cells": [
  {
   "cell_type": "code",
   "execution_count": 1,
   "metadata": {},
   "outputs": [
    {
     "name": "stderr",
     "output_type": "stream",
     "text": [
      "/home/giorgio/virtualenvs/shazura/lib/python3.5/site-packages/h5py/__init__.py:36: FutureWarning: Conversion of the second argument of issubdtype from `float` to `np.floating` is deprecated. In future, it will be treated as `np.float64 == np.dtype(float).type`.\n",
      "  from ._conv import register_converters as _register_converters\n"
     ]
    }
   ],
   "source": [
    "from __future__ import division, print_function, unicode_literals\n",
    "import numpy as np\n",
    "import tensorflow as tf\n",
    "\n",
    "# to make this notebook's output stable across runs\n",
    "def reset_graph(seed=42):\n",
    "    tf.reset_default_graph()\n",
    "    tf.set_random_seed(seed)\n",
    "    np.random.seed(seed)"
   ]
  },
  {
   "cell_type": "code",
   "execution_count": 2,
   "metadata": {},
   "outputs": [],
   "source": [
    "import glob\n",
    "import sys\n",
    "import os"
   ]
  },
  {
   "cell_type": "code",
   "execution_count": 3,
   "metadata": {},
   "outputs": [
    {
     "data": {
      "text/plain": [
       "['./data/validationset/cricket_09879.png',\n",
       " './data/validationset/cricket_09553.png',\n",
       " './data/validationset/bee_09121.png',\n",
       " './data/validationset/cricket_09810.png',\n",
       " './data/validationset/cricket_09656.png',\n",
       " './data/validationset/noise_09954.png',\n",
       " './data/validationset/cricket_09671.png',\n",
       " './data/validationset/bee_09354.png',\n",
       " './data/validationset/bee_09277.png',\n",
       " './data/validationset/cricket_09903.png']"
      ]
     },
     "execution_count": 3,
     "metadata": {},
     "output_type": "execute_result"
    }
   ],
   "source": [
    "filenamepaths = glob.glob(\"./data/validationset/*.png\")\n",
    "filenamepaths[:10]"
   ]
  },
  {
   "cell_type": "code",
   "execution_count": 4,
   "metadata": {},
   "outputs": [],
   "source": [
    "name_to_numeric = {\"bee\" : 0, \"cricket\" : 1, \"noise\" : 2}\n",
    "\n",
    "def get_class_from_path(path):\n",
    "    class_name = (os.path.split(path)[-1]).split('_')[0]\n",
    "    numerical_class = name_to_numeric[class_name]\n",
    "    return numerical_class"
   ]
  },
  {
   "cell_type": "code",
   "execution_count": 5,
   "metadata": {},
   "outputs": [],
   "source": [
    "labels = list(map(get_class_from_path, filenamepaths))"
   ]
  },
  {
   "cell_type": "code",
   "execution_count": 6,
   "metadata": {},
   "outputs": [
    {
     "name": "stdout",
     "output_type": "stream",
     "text": [
      "1 ./data/validationset/cricket_09879.png\n",
      "1 ./data/validationset/cricket_09553.png\n",
      "0 ./data/validationset/bee_09121.png\n",
      "1 ./data/validationset/cricket_09810.png\n",
      "1 ./data/validationset/cricket_09656.png\n",
      "2 ./data/validationset/noise_09954.png\n",
      "1 ./data/validationset/cricket_09671.png\n",
      "0 ./data/validationset/bee_09354.png\n",
      "0 ./data/validationset/bee_09277.png\n",
      "1 ./data/validationset/cricket_09903.png\n"
     ]
    }
   ],
   "source": [
    "\n",
    "for pathname, classname in zip (filenamepaths[:10], labels[:10]):\n",
    "    print(\"{} {}\".format(classname, pathname))\n",
    "    "
   ]
  },
  {
   "cell_type": "code",
   "execution_count": 7,
   "metadata": {},
   "outputs": [],
   "source": [
    "def parse_image_function(filename, label):\n",
    "    image_string = tf.read_file(filename)\n",
    "\n",
    "    # Don't use tf.image.decode_image, or the output shape will be undefined\n",
    "    image = tf.image.decode_png(image_string, channels=1)\n",
    "\n",
    "    # This will convert to float values in [0, 1]\n",
    "    image = tf.image.convert_image_dtype(image, tf.float32)\n",
    "    # Resize is not actually needed but it is good to have the image dimensions in the\n",
    "    # Tensor shape\n",
    "    image = tf.image.resize_images(image, [100, 100])\n",
    "    return image, label"
   ]
  },
  {
   "cell_type": "code",
   "execution_count": 8,
   "metadata": {},
   "outputs": [],
   "source": [
    "BATCH_SIZE=100"
   ]
  },
  {
   "cell_type": "code",
   "execution_count": 9,
   "metadata": {},
   "outputs": [],
   "source": [
    "reset_graph()"
   ]
  },
  {
   "cell_type": "markdown",
   "metadata": {},
   "source": [
    "The dataset is formed by tuples where the first element is the encoded image and the second is the class"
   ]
  },
  {
   "cell_type": "code",
   "execution_count": 10,
   "metadata": {},
   "outputs": [
    {
     "data": {
      "text/plain": [
       "{'images': <tf.Tensor 'IteratorGetNext:0' shape=(?, 100, 100, 1) dtype=float32>,\n",
       " 'iterator_init_op': <tf.Operation 'MakeIterator' type=MakeIterator>,\n",
       " 'labels': <tf.Tensor 'IteratorGetNext:1' shape=(?,) dtype=int32>}"
      ]
     },
     "execution_count": 10,
     "metadata": {},
     "output_type": "execute_result"
    }
   ],
   "source": [
    "def get_train_inputs(filenames, labels, batch_size, parallel_tasks=4):\n",
    "    num_samples = len(filenames)\n",
    "    assert len(filenames) == len(labels), \"Filenames and labels should have same length\"\n",
    "    dataset = tf.data.Dataset.from_tensor_slices((tf.constant(filenames), tf.constant(labels)))\n",
    "    dataset = dataset.map(parse_image_function, num_parallel_calls=4)\n",
    "#     dataset = dataset.shuffle()\n",
    "    dataset = dataset.batch(batch_size)\n",
    "    dataset = dataset.prefetch(1)\n",
    "    \n",
    "    iterator = dataset.make_initializable_iterator()\n",
    "    images, labels = iterator.get_next()\n",
    "    iterator_init_op = iterator.initializer\n",
    "    \n",
    "    inputs = {'images': images, 'labels': labels, 'iterator_init_op': iterator_init_op}\n",
    "    return inputs\n",
    "    \n",
    "train_inputs = get_train_inputs(filenamepaths, labels, BATCH_SIZE)\n",
    "train_inputs"
   ]
  },
  {
   "cell_type": "markdown",
   "metadata": {},
   "source": [
    "Run a simple iteration to see if the labels are actually changing"
   ]
  },
  {
   "cell_type": "code",
   "execution_count": 11,
   "metadata": {},
   "outputs": [
    {
     "name": "stdout",
     "output_type": "stream",
     "text": [
      "[1 1 0 1 1 2 1 0 0 1 0 1 0 1 0 0 2 0 2 2 1 2 2 1 1 2 0 2 0 1 1 1 0 2 1 2 2\n",
      " 2 0 1 2 2 2 1 1 0 0 0 0 1 1 1 0 0 2 2 2 1 1 1 2 2 2 0 1 0 0 1 1 1 2 0 1 1\n",
      " 1 2 1 1 2 2 0 2 1 0 2 0 0 0 1 1 0 0 1 0 0 2 1 2 1 1]\n",
      "[0 2 1 0 2 2 2 1 1 0 1 2 1 0 2 1 2 0 2 1 1 1 0 0 0 0 1 0 1 1 0 1 0 1 1 1 2\n",
      " 1 1 1 0 2 0 1 1 0 1 1 1 1 2 1 2 1 0 0 0 0 2 1 1 1 2 2 2 2 0 1 0 0 0 1 0 1\n",
      " 0 1 2 2 2 0 1 2 2 1 0 1 0 2 0 2 2 1 1 2 1 2 1 2 1 0]\n",
      "[2 1 1 2 0 2 0 0 1 1 1 0 0 1 0 2 1 2 1 2 1 1 1 1 1 2 1 2 0 1 1 0 2 2 0 0 1\n",
      " 1 0 0 0 2 2 1 2 1 2 2 2 0 1 1 1 1 0 1 1 2 0 1 1 2 1 0 1 1 1 2 0 1 2 1 1 0\n",
      " 1 1 2 1 0 2 1 1 0 1 1 2 2 2 1 1 1 2 0 0 1 2 1 2 0 2]\n"
     ]
    }
   ],
   "source": [
    "init = tf.global_variables_initializer()\n",
    "\n",
    "with tf.Session() as sess:\n",
    "    init.run()\n",
    "    sess.run(train_inputs['iterator_init_op'])\n",
    "    print(sess.run(train_inputs['labels']))\n",
    "    print(sess.run(train_inputs['labels']))\n",
    "    print(sess.run(train_inputs['labels']))"
   ]
  },
  {
   "cell_type": "code",
   "execution_count": 12,
   "metadata": {},
   "outputs": [
    {
     "data": {
      "text/plain": [
       "TensorShape([Dimension(None), Dimension(3)])"
      ]
     },
     "execution_count": 12,
     "metadata": {},
     "output_type": "execute_result"
    }
   ],
   "source": [
    "# a simple model, just a perceptron\n",
    "images = train_inputs[\"images\"]\n",
    "\n",
    "flatten_images = tf.reshape(images, [-1, 100*100])\n",
    "\n",
    "dense1 = tf.layers.dense(\n",
    "    flatten_images,\n",
    "    100,\n",
    "    activation=tf.nn.relu,\n",
    "    kernel_initializer=tf.initializers.random_uniform(-0.2, 0.2),\n",
    "    bias_initializer=tf.initializers.random_uniform(0.09, 0.11)\n",
    ")\n",
    "\n",
    "dense2 = tf.layers.dense(\n",
    "    dense1,\n",
    "    3,\n",
    "    kernel_initializer=tf.initializers.random_uniform(-0.2, 0.2),\n",
    "    bias_initializer=tf.initializers.random_uniform(0.09, 0.11)\n",
    ")\n",
    "\n",
    "\n",
    "logits=dense2\n",
    "logits.shape\n",
    "\n",
    "\n"
   ]
  },
  {
   "cell_type": "code",
   "execution_count": 15,
   "metadata": {},
   "outputs": [
    {
     "name": "stdout",
     "output_type": "stream",
     "text": [
      "(?,)\n"
     ]
    }
   ],
   "source": [
    "labels = train_inputs['labels']\n",
    "labels = tf.cast(labels, tf.int64)\n",
    "predictions = tf.argmax(logits,1)\n",
    "\n",
    "print(predictions.shape)  # should be (?, )\n",
    "\n",
    "loss = tf.losses.sparse_softmax_cross_entropy(labels=labels, logits=logits)\n",
    "optimizer = tf.train.GradientDescentOptimizer(0.005)\n",
    "train_op = optimizer.minimize(loss)\n",
    "accuracy = tf.reduce_mean(tf.cast(tf.equal(labels, predictions), tf.float32))\n"
   ]
  },
  {
   "cell_type": "code",
   "execution_count": 28,
   "metadata": {},
   "outputs": [
    {
     "name": "stdout",
     "output_type": "stream",
     "text": [
      "Epoch 0\n",
      "0:0 Train Loss: 2.9093410968780518\n",
      "0:0 Train Acc: 0.3100000023841858\n",
      "\n",
      "0:1 Train Loss: 5.285609245300293\n",
      "0:1 Train Acc: 0.41999998688697815\n",
      "\n",
      "0:2 Train Loss: 7.717114448547363\n",
      "0:2 Train Acc: 0.28999999165534973\n",
      "\n",
      "0:3 Train Loss: 5.694516658782959\n",
      "0:3 Train Acc: 0.4399999976158142\n",
      "\n",
      "0:4 Train Loss: 4.037654876708984\n",
      "0:4 Train Acc: 0.23000000417232513\n",
      "\n",
      "0:5 Train Loss: 4.137662887573242\n",
      "0:5 Train Acc: 0.20999999344348907\n",
      "\n",
      "0:6 Train Loss: 7.296288967132568\n",
      "0:6 Train Acc: 0.46000000834465027\n",
      "\n",
      "0:7 Train Loss: 1.10015070438385\n",
      "0:7 Train Acc: 0.5\n",
      "\n",
      "0:8 Train Loss: 1.8355720043182373\n",
      "0:8 Train Acc: 0.36000001430511475\n",
      "\n",
      "0:9 Train Loss: 3.7652008533477783\n",
      "0:9 Train Acc: 0.41999998688697815\n",
      "\n",
      "0:10 Train Loss: 3.3806607723236084\n",
      "0:10 Train Acc: 0.27000001072883606\n",
      "\n",
      "Epoch 1\n",
      "1:0 Train Loss: 3.45731782913208\n",
      "1:0 Train Acc: 0.3199999928474426\n",
      "\n",
      "1:1 Train Loss: 4.276937961578369\n",
      "1:1 Train Acc: 0.41999998688697815\n",
      "\n",
      "1:2 Train Loss: 2.317415475845337\n",
      "1:2 Train Acc: 0.23999999463558197\n",
      "\n",
      "1:3 Train Loss: 2.1807754039764404\n",
      "1:3 Train Acc: 0.4399999976158142\n",
      "\n",
      "1:4 Train Loss: 3.467594623565674\n",
      "1:4 Train Acc: 0.3400000035762787\n",
      "\n",
      "1:5 Train Loss: 2.190556764602661\n",
      "1:5 Train Acc: 0.6399999856948853\n",
      "\n",
      "1:6 Train Loss: 2.086686849594116\n",
      "1:6 Train Acc: 0.23999999463558197\n",
      "\n",
      "1:7 Train Loss: 1.9224162101745605\n",
      "1:7 Train Acc: 0.46000000834465027\n",
      "\n",
      "1:8 Train Loss: 2.0507962703704834\n",
      "1:8 Train Acc: 0.36000001430511475\n",
      "\n",
      "1:9 Train Loss: 2.9683990478515625\n",
      "1:9 Train Acc: 0.4300000071525574\n",
      "\n",
      "1:10 Train Loss: 2.129338026046753\n",
      "1:10 Train Acc: 0.27000001072883606\n",
      "\n",
      "Epoch 2\n",
      "2:0 Train Loss: 2.548004150390625\n",
      "2:0 Train Acc: 0.33000001311302185\n",
      "\n",
      "2:1 Train Loss: 2.553783893585205\n",
      "2:1 Train Acc: 0.41999998688697815\n",
      "\n",
      "2:2 Train Loss: 2.0504910945892334\n",
      "2:2 Train Acc: 0.25\n",
      "\n",
      "2:3 Train Loss: 1.4681673049926758\n",
      "2:3 Train Acc: 0.4399999976158142\n",
      "\n",
      "2:4 Train Loss: 1.911329746246338\n",
      "2:4 Train Acc: 0.3400000035762787\n",
      "\n",
      "2:5 Train Loss: 1.6396594047546387\n",
      "2:5 Train Acc: 0.6800000071525574\n",
      "\n",
      "2:6 Train Loss: 1.3326714038848877\n",
      "2:6 Train Acc: 0.4699999988079071\n",
      "\n",
      "2:7 Train Loss: 1.2235710620880127\n",
      "2:7 Train Acc: 0.4399999976158142\n",
      "\n",
      "2:8 Train Loss: 1.6039716005325317\n",
      "2:8 Train Acc: 0.3799999952316284\n",
      "\n",
      "2:9 Train Loss: 1.9679168462753296\n",
      "2:9 Train Acc: 0.33000001311302185\n",
      "\n",
      "2:10 Train Loss: 2.0266268253326416\n",
      "2:10 Train Acc: 0.5899999737739563\n",
      "\n",
      "Epoch 3\n",
      "3:0 Train Loss: 0.9527783393859863\n",
      "3:0 Train Acc: 0.4399999976158142\n",
      "\n",
      "3:1 Train Loss: 1.082665205001831\n",
      "3:1 Train Acc: 0.6299999952316284\n",
      "\n",
      "3:2 Train Loss: 1.1959540843963623\n",
      "3:2 Train Acc: 0.36000001430511475\n",
      "\n",
      "3:3 Train Loss: 1.6175673007965088\n",
      "3:3 Train Acc: 0.4399999976158142\n",
      "\n",
      "3:4 Train Loss: 1.4264672994613647\n",
      "3:4 Train Acc: 0.44999998807907104\n",
      "\n",
      "3:5 Train Loss: 0.9999977350234985\n",
      "3:5 Train Acc: 0.5199999809265137\n",
      "\n",
      "3:6 Train Loss: 1.0766043663024902\n",
      "3:6 Train Acc: 0.4099999964237213\n",
      "\n",
      "3:7 Train Loss: 1.1088461875915527\n",
      "3:7 Train Acc: 0.46000000834465027\n",
      "\n",
      "3:8 Train Loss: 1.1941916942596436\n",
      "3:8 Train Acc: 0.4300000071525574\n",
      "\n",
      "3:9 Train Loss: 1.3335556983947754\n",
      "3:9 Train Acc: 0.6200000047683716\n",
      "\n",
      "3:10 Train Loss: 0.9037935137748718\n",
      "3:10 Train Acc: 0.5199999809265137\n",
      "\n",
      "Epoch 4\n",
      "4:0 Train Loss: 1.0207325220108032\n",
      "4:0 Train Acc: 0.6100000143051147\n",
      "\n",
      "4:1 Train Loss: 1.090990424156189\n",
      "4:1 Train Acc: 0.4399999976158142\n",
      "\n",
      "4:2 Train Loss: 1.305700421333313\n",
      "4:2 Train Acc: 0.6200000047683716\n",
      "\n",
      "4:3 Train Loss: 0.9125023484230042\n",
      "4:3 Train Acc: 0.5400000214576721\n",
      "\n",
      "4:4 Train Loss: 1.0923610925674438\n",
      "4:4 Train Acc: 0.5600000023841858\n",
      "\n",
      "4:5 Train Loss: 1.3501524925231934\n",
      "4:5 Train Acc: 0.25\n",
      "\n",
      "4:6 Train Loss: 1.8701756000518799\n",
      "4:6 Train Acc: 0.5299999713897705\n",
      "\n",
      "4:7 Train Loss: 1.0518070459365845\n",
      "4:7 Train Acc: 0.3400000035762787\n",
      "\n",
      "4:8 Train Loss: 1.153355598449707\n",
      "4:8 Train Acc: 0.44999998807907104\n",
      "\n",
      "4:9 Train Loss: 0.9140876531600952\n",
      "4:9 Train Acc: 0.5299999713897705\n",
      "\n",
      "4:10 Train Loss: 1.1026959419250488\n",
      "4:10 Train Acc: 0.5699999928474426\n",
      "\n",
      "Epoch 5\n",
      "5:0 Train Loss: 1.222495675086975\n",
      "5:0 Train Acc: 0.3400000035762787\n",
      "\n",
      "5:1 Train Loss: 1.2982890605926514\n",
      "5:1 Train Acc: 0.699999988079071\n",
      "\n",
      "5:2 Train Loss: 0.8080723285675049\n",
      "5:2 Train Acc: 0.6899999976158142\n",
      "\n",
      "5:3 Train Loss: 0.8259081244468689\n",
      "5:3 Train Acc: 0.5699999928474426\n",
      "\n",
      "5:4 Train Loss: 0.8534021973609924\n",
      "5:4 Train Acc: 0.6200000047683716\n",
      "\n",
      "5:5 Train Loss: 0.7264082431793213\n",
      "5:5 Train Acc: 0.6499999761581421\n",
      "\n",
      "5:6 Train Loss: 0.7749587893486023\n",
      "5:6 Train Acc: 0.7599999904632568\n",
      "\n",
      "5:7 Train Loss: 0.7717956304550171\n",
      "5:7 Train Acc: 0.6100000143051147\n",
      "\n",
      "5:8 Train Loss: 0.7721093893051147\n",
      "5:8 Train Acc: 0.75\n",
      "\n",
      "5:9 Train Loss: 0.7760061025619507\n",
      "5:9 Train Acc: 0.7400000095367432\n",
      "\n",
      "5:10 Train Loss: 0.7989175319671631\n",
      "5:10 Train Acc: 0.6200000047683716\n",
      "\n",
      "Epoch 6\n",
      "6:0 Train Loss: 1.0053194761276245\n",
      "6:0 Train Acc: 0.3799999952316284\n",
      "\n",
      "6:1 Train Loss: 1.1576780080795288\n",
      "6:1 Train Acc: 0.6899999976158142\n",
      "\n",
      "6:2 Train Loss: 0.7931995987892151\n",
      "6:2 Train Acc: 0.7599999904632568\n",
      "\n",
      "6:3 Train Loss: 0.8408031463623047\n",
      "6:3 Train Acc: 0.550000011920929\n",
      "\n",
      "6:4 Train Loss: 0.9165633320808411\n",
      "6:4 Train Acc: 0.49000000953674316\n",
      "\n",
      "6:5 Train Loss: 0.753548800945282\n",
      "6:5 Train Acc: 0.6800000071525574\n",
      "\n",
      "6:6 Train Loss: 0.7647432088851929\n",
      "6:6 Train Acc: 0.7699999809265137\n",
      "\n",
      "6:7 Train Loss: 0.7665075659751892\n",
      "6:7 Train Acc: 0.5699999928474426\n",
      "\n",
      "6:8 Train Loss: 0.7544292211532593\n",
      "6:8 Train Acc: 0.800000011920929\n",
      "\n",
      "6:9 Train Loss: 0.7306439280509949\n",
      "6:9 Train Acc: 0.699999988079071\n",
      "\n",
      "6:10 Train Loss: 0.6689979434013367\n",
      "6:10 Train Acc: 0.8100000023841858\n",
      "\n",
      "Epoch 7\n",
      "7:0 Train Loss: 0.7072749137878418\n",
      "7:0 Train Acc: 0.8100000023841858\n",
      "\n",
      "7:1 Train Loss: 0.6975358724594116\n",
      "7:1 Train Acc: 0.8100000023841858\n",
      "\n",
      "7:2 Train Loss: 0.7086988091468811\n",
      "7:2 Train Acc: 0.8199999928474426\n",
      "\n",
      "7:3 Train Loss: 0.726300060749054\n",
      "7:3 Train Acc: 0.7099999785423279\n",
      "\n",
      "7:4 Train Loss: 0.7643323540687561\n",
      "7:4 Train Acc: 0.699999988079071\n",
      "\n",
      "7:5 Train Loss: 0.6499907970428467\n",
      "7:5 Train Acc: 0.7400000095367432\n",
      "\n",
      "7:6 Train Loss: 0.6954056620597839\n",
      "7:6 Train Acc: 0.7900000214576721\n",
      "\n",
      "7:7 Train Loss: 0.7031044960021973\n",
      "7:7 Train Acc: 0.6899999976158142\n",
      "\n",
      "7:8 Train Loss: 0.7217395901679993\n",
      "7:8 Train Acc: 0.7200000286102295\n",
      "\n",
      "7:9 Train Loss: 0.7768625617027283\n",
      "7:9 Train Acc: 0.6200000047683716\n",
      "\n",
      "7:10 Train Loss: 0.8989576101303101\n",
      "7:10 Train Acc: 0.6200000047683716\n",
      "\n",
      "Epoch 8\n",
      "8:0 Train Loss: 1.0451170206069946\n",
      "8:0 Train Acc: 0.3799999952316284\n",
      "\n",
      "8:1 Train Loss: 1.1295671463012695\n",
      "8:1 Train Acc: 0.699999988079071\n",
      "\n",
      "8:2 Train Loss: 0.7132638692855835\n",
      "8:2 Train Acc: 0.8199999928474426\n",
      "\n",
      "8:3 Train Loss: 0.7412702441215515\n",
      "8:3 Train Acc: 0.6399999856948853\n",
      "\n",
      "8:4 Train Loss: 0.7861031293869019\n",
      "8:4 Train Acc: 0.6100000143051147\n",
      "\n",
      "8:5 Train Loss: 0.6498072147369385\n",
      "8:5 Train Acc: 0.7099999785423279\n",
      "\n",
      "8:6 Train Loss: 0.6827713847160339\n",
      "8:6 Train Acc: 0.8100000023841858\n",
      "\n",
      "8:7 Train Loss: 0.6913852691650391\n",
      "8:7 Train Acc: 0.6700000166893005\n",
      "\n",
      "8:8 Train Loss: 0.68326735496521\n",
      "8:8 Train Acc: 0.8500000238418579\n",
      "\n",
      "8:9 Train Loss: 0.6717090606689453\n",
      "8:9 Train Acc: 0.8600000143051147\n",
      "\n",
      "8:10 Train Loss: 0.6394138932228088\n",
      "8:10 Train Acc: 0.7599999904632568\n",
      "\n",
      "Epoch 9\n",
      "9:0 Train Loss: 0.7634473443031311\n",
      "9:0 Train Acc: 0.6299999952316284\n",
      "\n",
      "9:1 Train Loss: 0.8333800435066223\n",
      "9:1 Train Acc: 0.699999988079071\n",
      "\n",
      "9:2 Train Loss: 0.7307681441307068\n",
      "9:2 Train Acc: 0.7099999785423279\n",
      "\n",
      "9:3 Train Loss: 0.8315436840057373\n",
      "9:3 Train Acc: 0.5799999833106995\n",
      "\n",
      "9:4 Train Loss: 0.8877373337745667\n",
      "9:4 Train Acc: 0.5099999904632568\n",
      "\n",
      "9:5 Train Loss: 0.6889995336532593\n",
      "9:5 Train Acc: 0.7200000286102295\n",
      "\n",
      "9:6 Train Loss: 0.6773989200592041\n",
      "9:6 Train Acc: 0.8399999737739563\n",
      "\n",
      "9:7 Train Loss: 0.6881795525550842\n",
      "9:7 Train Acc: 0.6499999761581421\n",
      "\n",
      "9:8 Train Loss: 0.6711186766624451\n",
      "9:8 Train Acc: 0.8299999833106995\n",
      "\n",
      "9:9 Train Loss: 0.6482105851173401\n",
      "9:9 Train Acc: 0.7699999809265137\n",
      "\n",
      "9:10 Train Loss: 0.5849704146385193\n",
      "9:10 Train Acc: 0.8799999952316284\n",
      "\n"
     ]
    }
   ],
   "source": [
    "init = tf.global_variables_initializer()\n",
    "\n",
    "metrics = {'accuracy_train' : [], 'accuracy_test' : [], 'loss_train' : [], 'loss_test': []}\n",
    "\n",
    "NUM_EPOCHS=10\n",
    "\n",
    "with tf.Session() as sess:\n",
    "    init.run()\n",
    "    \n",
    "    # actual training\n",
    "    for epoch in range(NUM_EPOCHS):\n",
    "        print(\"Epoch {}\".format(epoch))\n",
    "        # restart from beginning of the dataset\n",
    "        sess.run(train_inputs['iterator_init_op'])\n",
    "        for batch_index in range(len(filenamepaths)//BATCH_SIZE):\n",
    "            train_op_res, loss_val, accuracy_val = sess.run([train_op, loss, accuracy])\n",
    "            metrics['accuracy_train'].append(accuracy_val)\n",
    "            metrics['loss_train'].append(loss_val)\n",
    "            \n",
    "            print(\"{}:{} Train Loss: {}\".format(epoch,batch_index,loss_val))\n",
    "            print(\"{}:{} Train Acc: {}\".format(epoch,batch_index,accuracy_val))\n",
    "            print()"
   ]
  },
  {
   "cell_type": "code",
   "execution_count": 29,
   "metadata": {},
   "outputs": [],
   "source": [
    "import matplotlib as mpl\n",
    "import matplotlib.pyplot as plt\n",
    "%matplotlib inline"
   ]
  },
  {
   "cell_type": "code",
   "execution_count": 31,
   "metadata": {},
   "outputs": [
    {
     "data": {
      "text/plain": [
       "[<matplotlib.lines.Line2D at 0x7fa67176b7b8>]"
      ]
     },
     "execution_count": 31,
     "metadata": {},
     "output_type": "execute_result"
    },
    {
     "data": {
      "image/png": "[encoded data removed]",
      "text/plain": [
       "<Figure size 432x288 with 1 Axes>"
      ]
     },
     "metadata": {
      "needs_background": "light"
     },
     "output_type": "display_data"
    }
   ],
   "source": [
    "values = metrics['accuracy_train']\n",
    "plt.plot(range(len(values)), values)"
   ]
  },
  {
   "cell_type": "code",
   "execution_count": 51,
   "metadata": {},
   "outputs": [
    {
     "data": {
      "image/png": "[encoded data removed]",
      "text/plain": [
       "<Figure size 1080x360 with 2 Axes>"
      ]
     },
     "metadata": {
      "needs_background": "light"
     },
     "output_type": "display_data"
    }
   ],
   "source": [
    "def plot_metrics(metrics, figsize=(15,5)):\n",
    "    _x = range(len(metrics['accuracy_train']))\n",
    "    fig, axes = plt.subplots(1,2, figsize=figsize)\n",
    "    # loss ax\n",
    "    axes[0].plot(_x, metrics['loss_train'], label=\"train\")\n",
    "    axes[0].set_title(\"Loss\")\n",
    "    axes[0].set_xlabel(\"batches\")\n",
    "    axes[0].legend()\n",
    "    \n",
    "    # accuracy ax\n",
    "    axes[1].plot(_x, metrics['accuracy_train'], label=\"train\")\n",
    "    axes[1].set_title(\"Accuracy\")\n",
    "    axes[1].set_xlabel(\"batches\")\n",
    "    axes[1].legend()\n",
    "\n",
    "plot_metrics(metrics)\n"
   ]
  },
  {
   "cell_type": "code",
   "execution_count": null,
   "metadata": {},
   "outputs": [],
   "source": []
  }
 ],
 "metadata": {
  "kernelspec": {
   "display_name": "Python 3",
   "language": "python",
   "name": "python3"
  },
  "language_info": {
   "codemirror_mode": {
    "name": "ipython",
    "version": 3
   },
   "file_extension": ".py",
   "mimetype": "text/x-python",
   "name": "python",
   "nbconvert_exporter": "python",
   "pygments_lexer": "ipython3",
   "version": "3.5.2"
  }
 },
 "nbformat": 4,
 "nbformat_minor": 2
}
