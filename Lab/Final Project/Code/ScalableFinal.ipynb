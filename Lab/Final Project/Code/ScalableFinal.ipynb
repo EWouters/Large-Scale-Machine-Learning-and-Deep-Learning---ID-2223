{
 "cells": [
  {
   "cell_type": "markdown",
   "metadata": {},
   "source": [
    "# Final Project: Classifying beehive audio samples"
   ]
  },
  {
   "cell_type": "markdown",
   "metadata": {},
   "source": [
    "Introduction TODO"
   ]
  },
  {
   "cell_type": "markdown",
   "metadata": {},
   "source": [
    "Import the libraries to be used."
   ]
  },
  {
   "cell_type": "code",
   "execution_count": 1,
   "metadata": {},
   "outputs": [],
   "source": [
    "from os import listdir, sep\n",
    "from os.path import isfile, join\n",
    "import glob\n",
    "import sys\n",
    "import os\n",
    "import random"
   ]
  },
  {
   "cell_type": "code",
   "execution_count": 2,
   "metadata": {},
   "outputs": [],
   "source": [
    "import matplotlib.pyplot as plt\n",
    "import matplotlib as mpl\n",
    "%matplotlib inline"
   ]
  },
  {
   "cell_type": "markdown",
   "metadata": {},
   "source": [
    "## Load the data"
   ]
  },
  {
   "cell_type": "markdown",
   "metadata": {},
   "source": [
    "Specify the path where the data is stored. The first one is used under windows, the second on Ubuntu. The dataset is mirrored [here](https://erikwouters.stackstorage.com/s/rXj8xPLK8OwKIHE)."
   ]
  },
  {
   "cell_type": "code",
   "execution_count": 42,
   "metadata": {},
   "outputs": [],
   "source": [
    "# BUZZpath = join(\"D:\",\"Stack\",\"Courses\",\"KTH\",\"Courses\",\"05 - Scalable Machine Learning\",\"Final Project\",\"BUZZ1\")\n",
    "BUZZ_path = join(sep,\"media\",\"erik\",\"Data\",\"Stack\",\"Courses\",\"KTH\",\"Courses\",\"05 - Scalable Machine Learning\",\"Final Project\",\"BUZZ1\")\n",
    "# BUZZ_path = join(sep,\"home\",\"erik\",\"GitHub\",\"BUZZ1\")\n",
    "# BUZZ_path = \"BUZZ1\""
   ]
  },
  {
   "cell_type": "markdown",
   "metadata": {},
   "source": [
    "Enumerate each of the audio samples from the dataset in a list:\n",
    "* `bee_files`: filenames of bee audio samples to be used for training\n",
    "* `cricket_files`: filenames of cricket audio samples to be used for training\n",
    "* `noise_files`: filenames of noise audio samples to be used for training\n",
    "* `bee_val_files`: filenames of bee audio samples to be used for validation\n",
    "* `cricket_val_files`: filenames of cricket audio samples to be used for validation\n",
    "* `noise_val_files`: filenames of noise audio samples to be used for validation"
   ]
  },
  {
   "cell_type": "code",
   "execution_count": 43,
   "metadata": {},
   "outputs": [],
   "source": [
    "bee_files = [f for f in listdir(join(BUZZ_path,\"bee\")) if isfile(join(BUZZ_path, \"bee\",f))]\n",
    "cricket_files = [f for f in listdir(join(BUZZ_path,\"cricket\")) if isfile(join(BUZZ_path, \"cricket\",f))]\n",
    "noise_files = [f for f in listdir(join(BUZZ_path,\"noise\")) if isfile(join(BUZZ_path, \"noise\",f))]\n",
    "\n",
    "bee_val_files = [f for f in listdir(join(BUZZ_path,\"out_of_sample_data_for_validation\", \"bee_test\")) if isfile(join(BUZZ_path,\"out_of_sample_data_for_validation\", \"bee_test\",f))]\n",
    "cricket_val_files = [f for f in listdir(join(BUZZ_path,\"out_of_sample_data_for_validation\", \"cricket_test\")) if isfile(join(BUZZ_path,\"out_of_sample_data_for_validation\", \"cricket_test\",f))]\n",
    "noise_val_files = [f for f in listdir(join(BUZZ_path,\"out_of_sample_data_for_validation\", \"noise_test\")) if isfile(join(BUZZ_path,\"out_of_sample_data_for_validation\", \"noise_test\",f))]"
   ]
  },
  {
   "cell_type": "markdown",
   "metadata": {},
   "source": [
    "The files are not consistently named. Some of them start with the label, then a sample number, then the IP address of the [BeePI](https://www.kickstarter.com/projects/970162847/beepi-a-multisensor-electronic-beehive-monitor \"BeePI\") (a Raspberry PI based audio recording device), followed by the date and time of recording.\n",
    "\n",
    "These labels are not important for us, and because the data is also separated into folders we can work around the missing labels. Below are a few samples of filenames in each folder."
   ]
  },
  {
   "cell_type": "code",
   "execution_count": 44,
   "metadata": {},
   "outputs": [
    {
     "data": {
      "text/plain": [
       "['bee2266_192_168_4_9-2017-06-30_15-00-01.wav',\n",
       " 'bee2489_192_168_4_6-2017-08-28_14-00-01.wav',\n",
       " 'bee1335_192_168_4_6-2017-08-02_12-30-01.wav']"
      ]
     },
     "metadata": {},
     "output_type": "display_data"
    },
    {
     "data": {
      "text/plain": [
       "['cricket1314_192_168_4_6-2017-08-02_23-45-01.wav',\n",
       " 'cricket2212_192_168_4_6-2017-09-02_23-30-01.wav',\n",
       " 'cricket1777_192_168_4_6-2017-09-02_04-45-01.wav']"
      ]
     },
     "metadata": {},
     "output_type": "display_data"
    },
    {
     "data": {
      "text/plain": [
       "['noise1876.wav',\n",
       " 'noise2874_2016-08-13_07-30-52.wav',\n",
       " 'noise1893_2016-08-13_07-45-54.wav']"
      ]
     },
     "metadata": {},
     "output_type": "display_data"
    },
    {
     "data": {
      "text/plain": [
       "['192_168_4_6-2017-08-09_15-45-01_18.wav',\n",
       " '192_168_4_6-2017-08-09_15-15-01_17.wav',\n",
       " '192_168_4_6-2017-08-09_15-30-01_28.wav']"
      ]
     },
     "metadata": {},
     "output_type": "display_data"
    },
    {
     "data": {
      "text/plain": [
       "['cricket240_192_168_4_10-2017-08-18_23-45-01.wav',\n",
       " 'cricket230_192_168_4_10-2017-08-18_23-45-01.wav',\n",
       " 'cricket248_192_168_4_10-2017-08-18_23-45-01.wav']"
      ]
     },
     "metadata": {},
     "output_type": "display_data"
    },
    {
     "data": {
      "text/plain": [
       "['noise192_192_168_4_10-2017-07-09_04-45-01_26.wav',\n",
       " 'noise28_192_168_4_10-2017-07-09_04-30-01_12.wav',\n",
       " 'noise212_192_168_4_10-2017-07-09_04-45-01_9.wav']"
      ]
     },
     "metadata": {},
     "output_type": "display_data"
    }
   ],
   "source": [
    "display(bee_files[:3], cricket_files[:3], noise_files[:3], bee_val_files[:3], cricket_val_files[:3], noise_val_files[:3])"
   ]
  },
  {
   "cell_type": "markdown",
   "metadata": {},
   "source": [
    "We use `scipy.io`'s wavfile library to read the files."
   ]
  },
  {
   "cell_type": "code",
   "execution_count": 6,
   "metadata": {},
   "outputs": [],
   "source": [
    "from scipy.io import wavfile\n",
    "sample_rate, samples = wavfile.read(join(BUZZ_path, \"bee\",bee_files[0]))\n",
    "# sample_rate, samples = wavfile.read(join(BUZZpath, \"cricket\",cricketfiles[0]))\n",
    "# sample_rate, samples = wavfile.read(join(BUZZpath, \"noise\",noisefiles[0]))"
   ]
  },
  {
   "cell_type": "markdown",
   "metadata": {},
   "source": [
    "The sample rate of all the files is 44100 Hz. The samples are stored as 16-bit integers in an array with 88244 samples for the first audio file."
   ]
  },
  {
   "cell_type": "code",
   "execution_count": 7,
   "metadata": {},
   "outputs": [
    {
     "data": {
      "text/plain": [
       "44100"
      ]
     },
     "execution_count": 7,
     "metadata": {},
     "output_type": "execute_result"
    }
   ],
   "source": [
    "sample_rate"
   ]
  },
  {
   "cell_type": "code",
   "execution_count": 8,
   "metadata": {},
   "outputs": [
    {
     "data": {
      "text/plain": [
       "(array([440, 443, 446, ..., 447, 456, 459], dtype=int16), 88244)"
      ]
     },
     "execution_count": 8,
     "metadata": {},
     "output_type": "execute_result"
    }
   ],
   "source": [
    "samples, len(samples)"
   ]
  },
  {
   "cell_type": "markdown",
   "metadata": {},
   "source": [
    "To generate the spectrograms we use `matplotlib`'s `pyplot.specgram` library. This returns\n",
    "\n",
    "This function splits an audio sample\n",
    "into NFFT = 512 length segments and the spectrum of each segment is computed. The number\n",
    "of overlap points between each segment was set to 384. The window size was 2048 and the hop\n",
    "size was 2048/4 = 512. The scaling frequency was the same as the input audio sample’s frequency.\n",
    "The windowed version of each segment was obtained with the default Hanning window function.\n",
    "Each spectrogram was converted to an 100 × 100 image with a dpi of 300. Thus, the time and frequency\n",
    "domains were treated equally, and were mapped to the range of [0, 99] each with each pixel value\n",
    "approximating a frequency value at a particular point in time."
   ]
  },
  {
   "cell_type": "code",
   "execution_count": 29,
   "metadata": {},
   "outputs": [
    {
     "data": {
      "image/png": "[encoded data removed]",
      "text/plain": [
       "<Figure size 432x288 with 2 Axes>"
      ]
     },
     "metadata": {
      "needs_background": "light"
     },
     "output_type": "display_data"
    }
   ],
   "source": [
    "# https://matplotlib.org/api/_as_gen/matplotlib.pyplot.specgram.html\n",
    "cmap='gray' # 'jet' 'None'\n",
    "spectrum, freqs, t, im = plt.specgram(samples, NFFT=512, Fs=sample_rate, Fc=0, detrend=plt.mlab.detrend_none,\n",
    "         window=plt.mlab.window_hanning, noverlap=384,\n",
    "         cmap=cmap, xextent=None, pad_to=None, sides='default',\n",
    "         scale_by_freq=True, mode='default', scale='default')\n",
    "\n",
    "im.figure.axes[0].set_xlabel(\"Time [s]\")\n",
    "im.figure.axes[0].set_ylabel(\"Frequency [Hz]\")\n",
    "im.figure.axes[0].set_title(\"Spectrogram of sample {}\".format(bee_files[0]))\n",
    "plt.colorbar().set_label('Intensity [dB]')"
   ]
  },
  {
   "cell_type": "markdown",
   "metadata": {},
   "source": [
    "In order to save an image of 100x100 pixels we set the figure size to match that size and remove all axes and whitespace from the plot. Below is an example of a spectrogram. "
   ]
  },
  {
   "cell_type": "code",
   "execution_count": 10,
   "metadata": {},
   "outputs": [
    {
     "data": {
      "image/png": "[encoded data removed]",
      "text/plain": [
       "<Figure size 24x24 with 1 Axes>"
      ]
     },
     "metadata": {},
     "output_type": "display_data"
    }
   ],
   "source": [
    "dpi = 300\n",
    "im.figure.set_size_inches(100/dpi,100/dpi)\n",
    "im.figure.frameon = False\n",
    "im.figure.axes[0].set_axis_off()\n",
    "im.figure.axes[0].set_position([0., 0., 1., 1.])\n",
    "display(im.figure)\n",
    "# im.figure.savefig(\"test.png\", dpi=dpi)"
   ]
  },
  {
   "cell_type": "markdown",
   "metadata": {},
   "source": [
    "We create a function `wav2spec` that can be used to convert an audio sample to a spectrogram. It will output a `.png` image with a filename like `{category}_{sample number}.png`, where the sample number is printed with leading zeros such that it has five digits."
   ]
  },
  {
   "cell_type": "code",
   "execution_count": 11,
   "metadata": {},
   "outputs": [],
   "source": [
    "def wav2spec(filename, readdir, savedir, category=None, nr=None, im_size=[100, 100], dpi=300):\n",
    "\tsample_rate, samples = wavfile.read(join(readdir, filename))\n",
    "\tspectrum, freqs, t, im = plt.specgram(samples, NFFT=512, Fs=sample_rate, Fc=0, detrend=plt.mlab.detrend_none,\n",
    "         window=plt.mlab.window_hanning, noverlap=384,\n",
    "         cmap='gray', xextent=None, pad_to=None, sides='default',\n",
    "         scale_by_freq=True, mode='default', scale='default')\n",
    "\tim.figure.set_size_inches(im_size[0]/dpi,im_size[1]/dpi)\n",
    "\tim.figure.frameon = False\n",
    "\tim.figure.axes[0].set_axis_off()\n",
    "\tim.figure.axes[0].set_position([0., 0., 1., 1.])\n",
    "\tif category is None or nr is None:\n",
    "\t\tim.figure.savefig(join(savedir, filename.replace('.wav','.png')), dpi=dpi)\n",
    "\telse:\n",
    "\t\tim.figure.savefig(join(savedir, \"{}_{:05d}.png\".format(category, nr)), dpi=dpi)"
   ]
  },
  {
   "cell_type": "markdown",
   "metadata": {},
   "source": [
    "The sample numbers will be unique across all samples and start from 0."
   ]
  },
  {
   "cell_type": "code",
   "execution_count": 12,
   "metadata": {},
   "outputs": [],
   "source": [
    "sample_nr = 0\n",
    "# category = \"bee\"\n",
    "# print(\"{}_{:05d}.png\".format(category, samplenr))"
   ]
  },
  {
   "cell_type": "markdown",
   "metadata": {},
   "source": [
    "This loop generates all the spectrograms for the training set of bee samples."
   ]
  },
  {
   "cell_type": "code",
   "execution_count": 13,
   "metadata": {},
   "outputs": [],
   "source": [
    "# for bee_file in bee_files:\n",
    "# \twav2spec(bee_file,join(BUZZ_path, \"bee\"),join(BUZZ_path, \"trainset\"), \"bee\", sample_nr)\n",
    "# \tsample_nr+=1"
   ]
  },
  {
   "cell_type": "markdown",
   "metadata": {},
   "source": [
    "This loop generates all the spectrograms for the training set of cricket samples."
   ]
  },
  {
   "cell_type": "code",
   "execution_count": 14,
   "metadata": {},
   "outputs": [],
   "source": [
    "# for cricket_file in cricket_files:\n",
    "# \twav2spec(cricket_file,join(BUZZ_path, \"cricket\"),join(BUZZ_path, \"trainset\"), \"cricket\", sample_nr)\n",
    "# \tsample_nr+=1"
   ]
  },
  {
   "cell_type": "markdown",
   "metadata": {},
   "source": [
    "This loop generates all the spectrograms for the training set of noise samples."
   ]
  },
  {
   "cell_type": "code",
   "execution_count": 15,
   "metadata": {},
   "outputs": [],
   "source": [
    "# for noise_file in noise_files:\n",
    "# \twav2spec(noise_file,join(BUZZ_path, \"noise\"),join(BUZZ_path, \"trainset\"), \"noise\", sample_nr)\n",
    "# \tsample_nr+=1"
   ]
  },
  {
   "cell_type": "markdown",
   "metadata": {},
   "source": [
    "This loop generates all the spectrograms for the validation set of bee samples."
   ]
  },
  {
   "cell_type": "code",
   "execution_count": 16,
   "metadata": {},
   "outputs": [],
   "source": [
    "# for bee_val_file in bee_val_files:\n",
    "# \twav2spec(bee_val_file,join(BUZZ_path,\"out_of_sample_data_for_validation\",\"bee_test\"),join(BUZZ_path, \"validationset\"), \"bee\", sample_nr)\n",
    "# \tsample_nr+=1"
   ]
  },
  {
   "cell_type": "markdown",
   "metadata": {},
   "source": [
    "This loop generates all the spectrograms for the validation set of cricket samples."
   ]
  },
  {
   "cell_type": "code",
   "execution_count": 17,
   "metadata": {},
   "outputs": [],
   "source": [
    "# for cricket_val_file in cricket_val_files:\n",
    "# \twav2spec(cricket_val_file,join(BUZZ_path,\"out_of_sample_data_for_validation\",\"cricket_test\"),join(BUZZ_path, \"validationset\"), \"cricket\", sample_nr)\n",
    "# \tsample_nr+=1"
   ]
  },
  {
   "cell_type": "markdown",
   "metadata": {},
   "source": [
    "This loop generates all the spectrograms for the validation set of noise samples."
   ]
  },
  {
   "cell_type": "code",
   "execution_count": 18,
   "metadata": {},
   "outputs": [],
   "source": [
    "# for noise_val_file in noise_val_files:\n",
    "# \twav2spec(noise_val_file,join(BUZZ_path,\"out_of_sample_data_for_validation\",\"noise_test\"),join(BUZZ_path, \"validationset\"), \"noise\", sample_nr)\n",
    "# \tsample_nr+=1"
   ]
  },
  {
   "cell_type": "markdown",
   "metadata": {},
   "source": [
    "Select 100 spectrograms of each category and move them to the testset directory."
   ]
  },
  {
   "cell_type": "code",
   "execution_count": 45,
   "metadata": {},
   "outputs": [
    {
     "data": {
      "text/plain": [
       "['/home/erik/GitHub/BUZZ1/trainset/bee_00816.png',\n",
       " '/home/erik/GitHub/BUZZ1/trainset/bee_00561.png',\n",
       " '/home/erik/GitHub/BUZZ1/trainset/bee_01148.png']"
      ]
     },
     "metadata": {},
     "output_type": "display_data"
    },
    {
     "data": {
      "text/plain": [
       "['/home/erik/GitHub/BUZZ1/trainset/cricket_05155.png',\n",
       " '/home/erik/GitHub/BUZZ1/trainset/cricket_03707.png',\n",
       " '/home/erik/GitHub/BUZZ1/trainset/cricket_04352.png']"
      ]
     },
     "metadata": {},
     "output_type": "display_data"
    },
    {
     "data": {
      "text/plain": [
       "['/home/erik/GitHub/BUZZ1/trainset/noise_06423.png',\n",
       " '/home/erik/GitHub/BUZZ1/trainset/noise_06450.png',\n",
       " '/home/erik/GitHub/BUZZ1/trainset/noise_07845.png']"
      ]
     },
     "metadata": {},
     "output_type": "display_data"
    }
   ],
   "source": [
    "bee_train_filename_paths = glob.glob(join(BUZZ_path,\"trainset\") + sep + \"bee*.png\")\n",
    "cricket_train_filename_paths = glob.glob(join(BUZZ_path,\"trainset\") + sep + \"cricket*.png\")\n",
    "noise_train_filename_paths = glob.glob(join(BUZZ_path,\"trainset\") + sep + \"noise*.png\")\n",
    "display(bee_train_filename_paths[:3])\n",
    "display(cricket_train_filename_paths[:3])\n",
    "display(noise_train_filename_paths[:3])"
   ]
  },
  {
   "cell_type": "code",
   "execution_count": 46,
   "metadata": {},
   "outputs": [],
   "source": [
    "bee_test_filename_paths = random.sample(bee_train_filename_paths, 100)\n",
    "cricket_test_filename_paths = random.sample(cricket_train_filename_paths, 100)\n",
    "noise_test_filename_paths = random.sample(noise_train_filename_paths, 100)"
   ]
  },
  {
   "cell_type": "code",
   "execution_count": 48,
   "metadata": {},
   "outputs": [],
   "source": [
    "# for bee_test_filename_path in bee_test_filename_paths:\n",
    "# # \tdisplay(bee_test_filename_path, bee_test_filename_path.replace(sep + \"trainset\" + sep + \"bee_\", sep + \"testset\" + sep + \"bee_\"))\n",
    "# \tos.rename(bee_test_filename_path, bee_test_filename_path.replace(sep + \"trainset\" + sep + \"bee_\", sep + \"testset\" + sep + \"bee_\"))\n",
    "\n",
    "# for cricket_test_filename_path in cricket_test_filename_paths:\n",
    "# \tos.rename(cricket_test_filename_path, cricket_test_filename_path.replace(sep + \"trainset\" + sep + \"cricket_\", sep + \"testset\" + sep + \"cricket_\"))\n",
    "\t\n",
    "# for noise_test_filename_path in noise_test_filename_paths:\n",
    "# \tos.rename(noise_test_filename_path, noise_test_filename_path.replace(sep + \"trainset\" + sep + \"noise_\", sep + \"testset\" + sep + \"noise_\"))"
   ]
  },
  {
   "cell_type": "markdown",
   "metadata": {},
   "source": [
    "## Machine Learning"
   ]
  },
  {
   "cell_type": "code",
   "execution_count": 19,
   "metadata": {},
   "outputs": [],
   "source": [
    "from __future__ import division, print_function, unicode_literals\n",
    "import numpy as np\n",
    "import tensorflow as tf\n",
    "\n",
    "# to make this notebook's output stable across runs\n",
    "def reset_graph(seed=42):\n",
    "    tf.reset_default_graph()\n",
    "    tf.set_random_seed(seed)\n",
    "    np.random.seed(seed)"
   ]
  },
  {
   "cell_type": "code",
   "execution_count": 38,
   "metadata": {},
   "outputs": [
    {
     "name": "stdout",
     "output_type": "stream",
     "text": [
      "[_DeviceAttributes(/job:localhost/replica:0/task:0/device:CPU:0, CPU, 268435456, 14056607982855590226)]\n"
     ]
    }
   ],
   "source": [
    "with tf.Session() as sess:\n",
    "\tdevices = sess.list_devices()\n",
    "print(devices)"
   ]
  },
  {
   "cell_type": "code",
   "execution_count": 21,
   "metadata": {},
   "outputs": [
    {
     "data": {
      "text/plain": [
       "['/media/erik/Data/Stack/Courses/KTH/Courses/05 - Scalable Machine Learning/Final Project/BUZZ1/trainset/bee_00000.png',\n",
       " '/media/erik/Data/Stack/Courses/KTH/Courses/05 - Scalable Machine Learning/Final Project/BUZZ1/trainset/bee_00001.png',\n",
       " '/media/erik/Data/Stack/Courses/KTH/Courses/05 - Scalable Machine Learning/Final Project/BUZZ1/trainset/bee_00002.png',\n",
       " '/media/erik/Data/Stack/Courses/KTH/Courses/05 - Scalable Machine Learning/Final Project/BUZZ1/trainset/bee_00003.png',\n",
       " '/media/erik/Data/Stack/Courses/KTH/Courses/05 - Scalable Machine Learning/Final Project/BUZZ1/trainset/bee_00004.png',\n",
       " '/media/erik/Data/Stack/Courses/KTH/Courses/05 - Scalable Machine Learning/Final Project/BUZZ1/trainset/bee_00005.png',\n",
       " '/media/erik/Data/Stack/Courses/KTH/Courses/05 - Scalable Machine Learning/Final Project/BUZZ1/trainset/bee_00006.png',\n",
       " '/media/erik/Data/Stack/Courses/KTH/Courses/05 - Scalable Machine Learning/Final Project/BUZZ1/trainset/bee_00007.png',\n",
       " '/media/erik/Data/Stack/Courses/KTH/Courses/05 - Scalable Machine Learning/Final Project/BUZZ1/trainset/bee_00008.png',\n",
       " '/media/erik/Data/Stack/Courses/KTH/Courses/05 - Scalable Machine Learning/Final Project/BUZZ1/trainset/bee_00009.png']"
      ]
     },
     "execution_count": 21,
     "metadata": {},
     "output_type": "execute_result"
    }
   ],
   "source": [
    "train_filename_paths = glob.glob(join(BUZZ_path,\"trainset\") + sep + \"*.png\")\n",
    "validation_filename_paths = glob.glob(join(BUZZ_path,\"validationset\") + sep + \"*.png\")\n",
    "test_filename_paths = glob.glob(join(BUZZ_path,\"testset\") + sep + \"*.png\")\n",
    "\n",
    "train_filename_paths[:10]"
   ]
  },
  {
   "cell_type": "code",
   "execution_count": 22,
   "metadata": {},
   "outputs": [],
   "source": [
    "name_to_numeric = {\"bee\" : 0, \"cricket\" : 1, \"noise\" : 2}\n",
    "\n",
    "def get_class_from_path(path):\n",
    "    class_name = (os.path.split(path)[-1]).split('_')[0]\n",
    "    numerical_class = name_to_numeric[class_name]\n",
    "    return numerical_class"
   ]
  },
  {
   "cell_type": "code",
   "execution_count": 33,
   "metadata": {},
   "outputs": [],
   "source": [
    "labels = list(map(get_class_from_path, train_filename_paths))"
   ]
  },
  {
   "cell_type": "code",
   "execution_count": 34,
   "metadata": {},
   "outputs": [
    {
     "name": "stdout",
     "output_type": "stream",
     "text": [
      "0 /media/erik/Data/Stack/Courses/KTH/Courses/05 - Scalable Machine Learning/Final Project/BUZZ1/trainset/bee_00000.png\n",
      "0 /media/erik/Data/Stack/Courses/KTH/Courses/05 - Scalable Machine Learning/Final Project/BUZZ1/trainset/bee_00001.png\n",
      "0 /media/erik/Data/Stack/Courses/KTH/Courses/05 - Scalable Machine Learning/Final Project/BUZZ1/trainset/bee_00002.png\n",
      "0 /media/erik/Data/Stack/Courses/KTH/Courses/05 - Scalable Machine Learning/Final Project/BUZZ1/trainset/bee_00003.png\n",
      "0 /media/erik/Data/Stack/Courses/KTH/Courses/05 - Scalable Machine Learning/Final Project/BUZZ1/trainset/bee_00004.png\n",
      "0 /media/erik/Data/Stack/Courses/KTH/Courses/05 - Scalable Machine Learning/Final Project/BUZZ1/trainset/bee_00005.png\n",
      "0 /media/erik/Data/Stack/Courses/KTH/Courses/05 - Scalable Machine Learning/Final Project/BUZZ1/trainset/bee_00006.png\n",
      "0 /media/erik/Data/Stack/Courses/KTH/Courses/05 - Scalable Machine Learning/Final Project/BUZZ1/trainset/bee_00007.png\n",
      "0 /media/erik/Data/Stack/Courses/KTH/Courses/05 - Scalable Machine Learning/Final Project/BUZZ1/trainset/bee_00008.png\n",
      "0 /media/erik/Data/Stack/Courses/KTH/Courses/05 - Scalable Machine Learning/Final Project/BUZZ1/trainset/bee_00009.png\n"
     ]
    }
   ],
   "source": [
    "for pathname, classname in zip (train_filename_paths[:10], labels[:10]):\n",
    "    print(\"{} {}\".format(classname, pathname))"
   ]
  },
  {
   "cell_type": "code",
   "execution_count": 25,
   "metadata": {},
   "outputs": [],
   "source": [
    "def parse_image_function(filename, label):\n",
    "    image_string = tf.read_file(filename)\n",
    "\n",
    "    # Don't use tf.image.decode_image, or the output shape will be undefined\n",
    "    image = tf.image.decode_png(image_string, channels=1)\n",
    "\n",
    "    # This will convert to float values in [0, 1]\n",
    "    image = tf.image.convert_image_dtype(image, tf.float32)\n",
    "    # Resize is not actually needed but it is good to have the image dimensions in the\n",
    "    # Tensor shape\n",
    "    image = tf.image.resize_images(image, [100, 100])\n",
    "    return image, label"
   ]
  },
  {
   "cell_type": "code",
   "execution_count": 26,
   "metadata": {},
   "outputs": [],
   "source": [
    "BATCH_SIZE=100"
   ]
  },
  {
   "cell_type": "code",
   "execution_count": 35,
   "metadata": {},
   "outputs": [],
   "source": [
    "reset_graph()"
   ]
  },
  {
   "cell_type": "markdown",
   "metadata": {},
   "source": [
    "The dataset is formed by tuples where the first element is the encoded image and the second is the class"
   ]
  },
  {
   "cell_type": "code",
   "execution_count": 36,
   "metadata": {},
   "outputs": [
    {
     "data": {
      "text/plain": [
       "{'images': <tf.Tensor 'IteratorGetNext:0' shape=(?, 100, 100, 1) dtype=float32>,\n",
       " 'iterator_init_op': <tf.Operation 'MakeIterator' type=MakeIterator>,\n",
       " 'labels': <tf.Tensor 'IteratorGetNext:1' shape=(?,) dtype=int32>}"
      ]
     },
     "execution_count": 36,
     "metadata": {},
     "output_type": "execute_result"
    }
   ],
   "source": [
    "def get_train_inputs(filenames, labels, batch_size, parallel_tasks=4):\n",
    "    num_samples = len(filenames)\n",
    "    assert len(filenames) == len(labels), \"Filenames and labels should have same length\"\n",
    "    dataset = tf.data.Dataset.from_tensor_slices((tf.constant(filenames), tf.constant(labels)))\n",
    "    dataset = dataset.map(parse_image_function, num_parallel_calls=4)\n",
    "#     dataset = dataset.shuffle()\n",
    "    dataset = dataset.batch(batch_size)\n",
    "    dataset = dataset.prefetch(1)\n",
    "    \n",
    "    iterator = dataset.make_initializable_iterator()\n",
    "    images, labels = iterator.get_next()\n",
    "    iterator_init_op = iterator.initializer\n",
    "    \n",
    "    inputs = {'images': images, 'labels': labels, 'iterator_init_op': iterator_init_op}\n",
    "    return inputs\n",
    "    \n",
    "train_inputs = get_train_inputs(train_filename_paths, labels, BATCH_SIZE)\n",
    "train_inputs"
   ]
  },
  {
   "cell_type": "markdown",
   "metadata": {},
   "source": [
    "Run a simple iteration to see if the labels are actually changing"
   ]
  },
  {
   "cell_type": "code",
   "execution_count": 39,
   "metadata": {},
   "outputs": [
    {
     "name": "stdout",
     "output_type": "stream",
     "text": [
      "[0 0 0 0 0 0 0 0 0 0 0 0 0 0 0 0 0 0 0 0 0 0 0 0 0 0 0 0 0 0 0 0 0 0 0 0 0\n",
      " 0 0 0 0 0 0 0 0 0 0 0 0 0 0 0 0 0 0 0 0 0 0 0 0 0 0 0 0 0 0 0 0 0 0 0 0 0\n",
      " 0 0 0 0 0 0 0 0 0 0 0 0 0 0 0 0 0 0 0 0 0 0 0 0 0 0]\n",
      "[0 0 0 0 0 0 0 0 0 0 0 0 0 0 0 0 0 0 0 0 0 0 0 0 0 0 0 0 0 0 0 0 0 0 0 0 0\n",
      " 0 0 0 0 0 0 0 0 0 0 0 0 0 0 0 0 0 0 0 0 0 0 0 0 0 0 0 0 0 0 0 0 0 0 0 0 0\n",
      " 0 0 0 0 0 0 0 0 0 0 0 0 0 0 0 0 0 0 0 0 0 0 0 0 0 0]\n",
      "[0 0 0 0 0 0 0 0 0 0 0 0 0 0 0 0 0 0 0 0 0 0 0 0 0 0 0 0 0 0 0 0 0 0 0 0 0\n",
      " 0 0 0 0 0 0 0 0 0 0 0 0 0 0 0 0 0 0 0 0 0 0 0 0 0 0 0 0 0 0 0 0 0 0 0 0 0\n",
      " 0 0 0 0 0 0 0 0 0 0 0 0 0 0 0 0 0 0 0 0 0 0 0 0 0 0]\n"
     ]
    }
   ],
   "source": [
    "init = tf.global_variables_initializer()\n",
    "\n",
    "with tf.Session(config=tf.ConfigProto(log_device_placement=True)) as sess:\n",
    "    init.run()\n",
    "    sess.run(train_inputs['iterator_init_op'])\n",
    "    print(sess.run(train_inputs['labels']))\n",
    "    print(sess.run(train_inputs['labels']))\n",
    "    print(sess.run(train_inputs['labels']))"
   ]
  },
  {
   "cell_type": "code",
   "execution_count": 30,
   "metadata": {},
   "outputs": [
    {
     "data": {
      "text/plain": [
       "TensorShape([Dimension(None), Dimension(3)])"
      ]
     },
     "execution_count": 30,
     "metadata": {},
     "output_type": "execute_result"
    }
   ],
   "source": [
    "# a simple model, just a perceptron\n",
    "images = train_inputs[\"images\"]\n",
    "\n",
    "flatten_images = tf.reshape(images, [-1, 100*100])\n",
    "\n",
    "dense1 = tf.layers.dense(\n",
    "    flatten_images,\n",
    "    100,\n",
    "    activation=tf.nn.relu,\n",
    "    kernel_initializer=tf.initializers.random_uniform(-0.2, 0.2),\n",
    "    bias_initializer=tf.initializers.random_uniform(0.09, 0.11)\n",
    ")\n",
    "\n",
    "dense2 = tf.layers.dense(\n",
    "    dense1,\n",
    "    3,\n",
    "    kernel_initializer=tf.initializers.random_uniform(-0.2, 0.2),\n",
    "    bias_initializer=tf.initializers.random_uniform(0.09, 0.11)\n",
    ")\n",
    "\n",
    "\n",
    "logits=dense2\n",
    "logits.shape\n"
   ]
  },
  {
   "cell_type": "code",
   "execution_count": 31,
   "metadata": {},
   "outputs": [],
   "source": [
    "labels = train_inputs['labels']\n",
    "labels = tf.cast(labels, tf.int64)\n",
    "predictions = tf.argmax(logits,1)\n",
    "\n",
    "loss = tf.losses.sparse_softmax_cross_entropy(labels=labels, logits=logits)\n",
    "optimizer = tf.train.GradientDescentOptimizer(0.005)\n",
    "train_op = optimizer.minimize(loss)"
   ]
  },
  {
   "cell_type": "code",
   "execution_count": 32,
   "metadata": {},
   "outputs": [
    {
     "name": "stdout",
     "output_type": "stream",
     "text": [
      "Epoch 0\n",
      "None\n",
      "0.29689452\n",
      "None\n",
      "0.0002171175\n",
      "None\n",
      "0.00021948245\n",
      "None\n",
      "9.238525\n",
      "None\n",
      "0.0\n",
      "None\n",
      "0.0\n",
      "None\n",
      "0.0\n",
      "None\n",
      "2.573303\n",
      "None\n",
      "12.53172\n",
      "None\n",
      "8.9406946e-08\n",
      "None\n",
      "6.5565104e-08\n",
      "Epoch 1\n",
      "None\n",
      "26.710943\n",
      "None\n",
      "0.07095284\n",
      "None\n",
      "0.020915924\n",
      "None\n",
      "5.264463\n",
      "None\n",
      "1.6546226e-06\n",
      "None\n",
      "1.4042837e-06\n",
      "None\n",
      "1.7285325e-06\n",
      "None\n",
      "1.6878974\n",
      "None\n",
      "8.327548\n",
      "None\n",
      "1.0716773e-05\n",
      "None\n",
      "8.884596e-06\n",
      "Epoch 2\n",
      "None\n",
      "17.80578\n",
      "None\n",
      "0.1264531\n",
      "None\n",
      "0.030683128\n",
      "None\n",
      "4.702643\n",
      "None\n",
      "9.719059e-05\n",
      "None\n",
      "8.680521e-05\n",
      "None\n",
      "0.000101742\n",
      "None\n",
      "1.1554638\n",
      "None\n",
      "5.7885222\n",
      "None\n",
      "0.00043776396\n",
      "None\n",
      "0.00038911682\n"
     ]
    }
   ],
   "source": [
    "init = tf.global_variables_initializer()\n",
    "\n",
    "with tf.Session() as sess:\n",
    "    init.run()\n",
    "    \n",
    "    # actual training\n",
    "    for epoch in range(3):\n",
    "        print(\"Epoch {}\".format(epoch))\n",
    "        # restart from beginning of the dataset\n",
    "        sess.run(train_inputs['iterator_init_op'])\n",
    "        for _ in range(len(train_filename_paths)//BATCH_SIZE):\n",
    "            train_op_res, loss_val = sess.run([train_op, loss])\n",
    "            print(train_op_res)\n",
    "            print(loss_val)"
   ]
  },
  {
   "cell_type": "code",
   "execution_count": null,
   "metadata": {},
   "outputs": [],
   "source": []
  }
 ],
 "metadata": {
  "kernelspec": {
   "display_name": "Python [conda env:tf_dev_3.5]",
   "language": "python",
   "name": "conda-env-tf_dev_3.5-py"
  },
  "language_info": {
   "codemirror_mode": {
    "name": "ipython",
    "version": 3
   },
   "file_extension": ".py",
   "mimetype": "text/x-python",
   "name": "python",
   "nbconvert_exporter": "python",
   "pygments_lexer": "ipython3",
   "version": "3.5.6"
  }
 },
 "nbformat": 4,
 "nbformat_minor": 2
}
