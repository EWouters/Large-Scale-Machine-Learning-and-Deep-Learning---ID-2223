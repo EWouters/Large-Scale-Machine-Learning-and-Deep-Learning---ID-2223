{
 "cells": [
  {
   "cell_type": "code",
   "execution_count": 1,
   "metadata": {},
   "outputs": [],
   "source": [
    "import numpy as np"
   ]
  },
  {
   "cell_type": "code",
   "execution_count": 2,
   "metadata": {},
   "outputs": [],
   "source": [
    "image = np.array(\n",
    "    [\n",
    "        [0, 0, 0, 0, 0, 0, 0],\n",
    "        [0, 1, 0, 0, 0, 1, 0],\n",
    "        [0, 0, 0, 0, 0, 0, 0],\n",
    "        [0, 0, 0, 1, 0, 0, 0],\n",
    "        [0, 1, 0, 0, 0, 1, 0],\n",
    "        [0, 0, 1, 1, 1, 0, 0],\n",
    "        [0, 0, 0, 0, 0, 0, 0],\n",
    "    ]\n",
    ")"
   ]
  },
  {
   "cell_type": "code",
   "execution_count": 3,
   "metadata": {},
   "outputs": [],
   "source": [
    "filt = np.array([[0, 0, 1], [1, 0, 0], [0, 1, 1]])"
   ]
  },
  {
   "cell_type": "code",
   "execution_count": 4,
   "metadata": {},
   "outputs": [],
   "source": [
    "def cf(im, filt, stride=1):\n",
    "    nx = int(np.ceil((im.shape[0] - filt.shape[0] + 1) / stride))\n",
    "    ny = int(np.ceil((im.shape[1] - filt.shape[1] + 1) / stride))\n",
    "    factor = 1 / (np.prod(filt.shape))\n",
    "    image = np.zeros(shape=(nx, ny))\n",
    "    for x in range(nx):\n",
    "        for y in range(ny):\n",
    "            image[x, y] = np.sum(\n",
    "                im[\n",
    "                    x * stride : x * stride + filt.shape[0],\n",
    "                    y * stride : y * stride + filt.shape[1],\n",
    "                ]\n",
    "                * filt\n",
    "            )\n",
    "    return factor * image"
   ]
  },
  {
   "cell_type": "code",
   "execution_count": 5,
   "metadata": {},
   "outputs": [],
   "source": [
    "res = cf(image,filt, 2)"
   ]
  },
  {
   "cell_type": "code",
   "execution_count": 6,
   "metadata": {},
   "outputs": [
    {
     "name": "stdout",
     "output_type": "stream",
     "text": [
      "[[0,   0,   0,  ]\n",
      " [1/9, 0,   1/9,]\n",
      " [0,   1/9, 1/9,]]\n"
     ]
    }
   ],
   "source": [
    "import fractions\n",
    "np.set_printoptions(formatter={'all':lambda x: \"{0: <4}\".format(str(fractions.Fraction(x).limit_denominator()) + ',')})\n",
    "print(res)"
   ]
  },
  {
   "cell_type": "code",
   "execution_count": 7,
   "metadata": {},
   "outputs": [
    {
     "name": "stdout",
     "output_type": "stream",
     "text": [
      "\\begin{tabular}{rrr}\n",
      "\\hline\n",
      " 0        & 0        & 0        \\\\\n",
      " 0.111111 & 0        & 0.111111 \\\\\n",
      " 0        & 0.111111 & 0.111111 \\\\\n",
      "\\hline\n",
      "\\end{tabular}\n"
     ]
    }
   ],
   "source": [
    "from tabulate import tabulate\n",
    "print(tabulate(res, tablefmt=\"latex\"))"
   ]
  }
 ],
 "metadata": {
  "kernelspec": {
   "display_name": "Python 3",
   "language": "python",
   "name": "python3"
  },
  "language_info": {
   "codemirror_mode": {
    "name": "ipython",
    "version": 3
   },
   "file_extension": ".py",
   "mimetype": "text/x-python",
   "name": "python",
   "nbconvert_exporter": "python",
   "pygments_lexer": "ipython3",
   "version": "3.7.0"
  }
 },
 "nbformat": 4,
 "nbformat_minor": 2
}
